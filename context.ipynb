{
 "cells": [
  {
   "cell_type": "code",
   "execution_count": 1,
   "metadata": {},
   "outputs": [],
   "source": [
    "from langchain_openai.chat_models import ChatOpenAI\n",
    "from langchain_openai.embeddings import OpenAIEmbeddings\n",
    "from langchain_core.output_parsers import StrOutputParser\n",
    "from langchain.prompts import PromptTemplate\n",
    "from langchain_community.document_loaders import PyMuPDFLoader\n",
    "from langchain_community.vectorstores import DocArrayInMemorySearch\n",
    "from operator import itemgetter"
   ]
  },
  {
   "cell_type": "code",
   "execution_count": 2,
   "metadata": {},
   "outputs": [],
   "source": [
    "model = ChatOpenAI(model=\"gpt-4o-mini\")\n",
    "embeddings = OpenAIEmbeddings()\n",
    "parser = StrOutputParser()"
   ]
  },
  {
   "cell_type": "code",
   "execution_count": 4,
   "metadata": {},
   "outputs": [],
   "source": [
    "loader = PyMuPDFLoader(\"ref_data/TWINGO/MR413X4416A000.pdf\", extract_images=True)\n",
    "pages = loader.load()\n",
    "vectorstore = DocArrayInMemorySearch.from_documents(pages, embedding=embeddings)\n",
    "retriever = vectorstore.as_retriever()"
   ]
  },
  {
   "cell_type": "code",
   "execution_count": 3,
   "metadata": {},
   "outputs": [],
   "source": [
    "template = \"\"\"\n",
    "Answer the question based on the context below. If you can't \n",
    "answer the question, reply \"I don't know\".\n",
    "\n",
    "Context: {context}\n",
    "\n",
    "Question: {question}\n",
    "\"\"\"\n",
    "\n",
    "prompt = PromptTemplate.from_template(template)"
   ]
  },
  {
   "cell_type": "code",
   "execution_count": 8,
   "metadata": {},
   "outputs": [],
   "source": [
    "chain = (\n",
    "    {\n",
    "        \"context\": itemgetter(\"question\") | retriever,\n",
    "        \"question\": itemgetter(\"question\"),\n",
    "    }\n",
    "    | prompt\n",
    "    | model\n",
    "    | parser\n",
    ")"
   ]
  },
  {
   "cell_type": "code",
   "execution_count": 9,
   "metadata": {},
   "outputs": [],
   "source": [
    "question = \"\"\"\n",
    "Что делать если  Стартер не функционирует\n",
    "\"\"\""
   ]
  },
  {
   "cell_type": "code",
   "execution_count": 10,
   "metadata": {},
   "outputs": [
    {
     "name": "stdout",
     "output_type": "stream",
     "text": [
      "Если стартер не функционирует, выполните следующие действия:\n",
      "\n",
      "1. Проверьте состояние аккумуляторной батареи (см. главу 80A, Аккумуляторная батарея).\n",
      "2. Проверьте состояние силового предохранителя (см. ПРОВЕРКА 2).\n",
      "3. Проверьте исправность предохранителя F9 компонента 1016.\n",
      "4. Проверьте, не заклинило ли двигатель.\n",
      "5. Проверьте надежность затяжки следующих наконечников:\n",
      "   - аккумуляторную батарею,\n",
      "   - стартера,\n",
      "   - \"массы\" двигателя,\n",
      "   - \"массы\" кузова.\n",
      "6. Затяните клеммы (см. Руководство по ремонту 411, глава 80A, Аккумуляторная батарея).\n",
      "7. Проверьте исправность следующих проводов:\n",
      "   - провод, соединяющий вывод \"+\" аккумуляторной батареи с контактом B \"+\" стартера,\n",
      "   - провод, соединяющий вывод \"-\" аккумуляторной батареи с \"массой\" кузова автомобиля,\n",
      "   - провод, соединяющий двигатель с \"массой\" кузова автомобиля.\n",
      "8. Устраните неисправность поврежденных проводов и их наконечников. Если цепь неисправна и есть возможность ремонта, устраните неисправность. Если ремонта нет, замените проводку.\n",
      "9. Выполните попытку запуска двигателя.\n",
      "10. Если якорь стартера по-прежнему не вращается, проверьте, слышен ли щелчок при его включении."
     ]
    }
   ],
   "source": [
    "for s in chain.stream({\"question\": question}):\n",
    "    print(s, end=\"\", flush=True)"
   ]
  }
 ],
 "metadata": {
  "kernelspec": {
   "display_name": ".venv",
   "language": "python",
   "name": "python3"
  },
  "language_info": {
   "codemirror_mode": {
    "name": "ipython",
    "version": 3
   },
   "file_extension": ".py",
   "mimetype": "text/x-python",
   "name": "python",
   "nbconvert_exporter": "python",
   "pygments_lexer": "ipython3",
   "version": "3.10.12"
  }
 },
 "nbformat": 4,
 "nbformat_minor": 2
}
