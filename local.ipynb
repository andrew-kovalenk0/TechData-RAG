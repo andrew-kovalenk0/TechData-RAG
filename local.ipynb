{
 "cells": [
  {
   "cell_type": "code",
   "execution_count": 12,
   "metadata": {},
   "outputs": [],
   "source": [
    "from langchain_openai.chat_models import ChatOpenAI\n",
    "from langchain_openai.embeddings import OpenAIEmbeddings\n",
    "from langchain_core.output_parsers import StrOutputParser\n",
    "from langchain.prompts import PromptTemplate\n",
    "from langchain_community.document_loaders import PyMuPDFLoader\n",
    "from langchain_community.vectorstores import DocArrayInMemorySearch\n",
    "from operator import itemgetter"
   ]
  },
  {
   "cell_type": "code",
   "execution_count": 2,
   "metadata": {},
   "outputs": [],
   "source": [
    "model = ChatOpenAI(model=\"gpt-4o-mini\")\n",
    "embeddings = OpenAIEmbeddings()\n",
    "parser = StrOutputParser()"
   ]
  },
  {
   "cell_type": "code",
   "execution_count": 3,
   "metadata": {},
   "outputs": [],
   "source": [
    "template = \"\"\"\n",
    "Answer the question based on the context below. If you can't \n",
    "answer the question, reply \"I don't know\".\n",
    "\n",
    "Context: {context}\n",
    "\n",
    "Question: {question}\n",
    "\"\"\"\n",
    "\n",
    "prompt = PromptTemplate.from_template(template)"
   ]
  },
  {
   "cell_type": "code",
   "execution_count": 17,
   "metadata": {},
   "outputs": [],
   "source": [
    "loader = PyMuPDFLoader(\"ref_data/TWINGO/MR413X4416A000.pdf\", extract_images=True)\n",
    "pages = loader.load()"
   ]
  },
  {
   "cell_type": "code",
   "execution_count": 20,
   "metadata": {},
   "outputs": [
    {
     "data": {
      "text/plain": [
       "'16A-2\\nMR-413-X44-16A000$125.mif\\nV2\\n16A\\nЗАПУСК ДВИГАТЕЛЯ И ЗАРЯДКА \\nАККУМУЛЯТОРНОЙ БАТАРЕИ\\nДиагностика – Перечень и расположение элементов\\n1\\nСтартер \\n2\\nГенератор \\n3\\nЦЭКБС\\n1\\n2\\nTwingo II\\n3\\nMR-413-X44-16A000$125.mif\\n120411120518安\\n121207'"
      ]
     },
     "execution_count": 20,
     "metadata": {},
     "output_type": "execute_result"
    }
   ],
   "source": [
    "pages[1].page_content"
   ]
  },
  {
   "cell_type": "code",
   "execution_count": 15,
   "metadata": {},
   "outputs": [
    {
     "ename": "AttributeError",
     "evalue": "'Document' object has no attribute 'extract_images'",
     "output_type": "error",
     "traceback": [
      "\u001b[1;31m---------------------------------------------------------------------------\u001b[0m",
      "\u001b[1;31mAttributeError\u001b[0m                            Traceback (most recent call last)",
      "Cell \u001b[1;32mIn[15], line 3\u001b[0m\n\u001b[0;32m      1\u001b[0m \u001b[38;5;28;01mfor\u001b[39;00m page_index \u001b[38;5;129;01min\u001b[39;00m \u001b[38;5;28mrange\u001b[39m(\u001b[38;5;28mlen\u001b[39m(pages)): \u001b[38;5;66;03m# iterate over pdf pages\u001b[39;00m\n\u001b[0;32m      2\u001b[0m     page \u001b[38;5;241m=\u001b[39m pages[page_index] \u001b[38;5;66;03m# get the page\u001b[39;00m\n\u001b[1;32m----> 3\u001b[0m     image_list \u001b[38;5;241m=\u001b[39m \u001b[43mpage\u001b[49m\u001b[38;5;241;43m.\u001b[39;49m\u001b[43mextract_images\u001b[49m()\n\u001b[0;32m      5\u001b[0m     \u001b[38;5;66;03m# print the number of images found on the page\u001b[39;00m\n\u001b[0;32m      6\u001b[0m     \u001b[38;5;28;01mif\u001b[39;00m image_list:\n",
      "\u001b[1;31mAttributeError\u001b[0m: 'Document' object has no attribute 'extract_images'"
     ]
    }
   ],
   "source": [
    "for page_index in range(len(pages)): # iterate over pdf pages\n",
    "    page = pages[page_index] # get the page\n",
    "    image_list = page.extract_images()\n",
    "\n",
    "    # print the number of images found on the page\n",
    "    if image_list:\n",
    "        print(f\"Found {len(image_list)} images on page {page_index}\")\n",
    "    else:\n",
    "        print(\"No images found on page\", page_index)"
   ]
  },
  {
   "cell_type": "code",
   "execution_count": 5,
   "metadata": {},
   "outputs": [
    {
     "name": "stderr",
     "output_type": "stream",
     "text": [
      "c:\\Users\\andre\\AppData\\Local\\Programs\\Python\\Python312\\Lib\\site-packages\\pydantic\\_migration.py:283: UserWarning: `pydantic.error_wrappers:ValidationError` has been moved to `pydantic:ValidationError`.\n",
      "  warnings.warn(f'`{import_path}` has been moved to `{new_location}`.')\n"
     ]
    }
   ],
   "source": [
    "vectorstore = DocArrayInMemorySearch.from_documents(pages, embedding=embeddings)"
   ]
  },
  {
   "cell_type": "code",
   "execution_count": 6,
   "metadata": {},
   "outputs": [],
   "source": [
    "retriever = vectorstore.as_retriever()"
   ]
  },
  {
   "cell_type": "code",
   "execution_count": 7,
   "metadata": {},
   "outputs": [],
   "source": [
    "chain = (\n",
    "    {\n",
    "        \"context\": itemgetter(\"question\") | retriever,\n",
    "        \"question\": itemgetter(\"question\"),\n",
    "    }\n",
    "    | prompt\n",
    "    | model\n",
    "    | parser\n",
    ")"
   ]
  },
  {
   "cell_type": "code",
   "execution_count": 15,
   "metadata": {},
   "outputs": [],
   "source": [
    "question = \"\"\"\n",
    "Что делать если  Стартер не функционирует\n",
    "\"\"\""
   ]
  },
  {
   "cell_type": "code",
   "execution_count": 16,
   "metadata": {},
   "outputs": [
    {
     "name": "stdout",
     "output_type": "stream",
     "text": [
      "Если стартер не функционирует, выполните следующие шаги:\n",
      "\n",
      "1. Проверьте состояние аккумуляторной батареи.\n",
      "2. Проверьте состояние силового предохранителя.\n",
      "3. Убедитесь в исправности предохранителя F9 компонента 1016.\n",
      "4. Проверьте, не заклинило ли двигатель.\n",
      "5. Проверьте надежность затяжки следующих наконечников:\n",
      "   - аккумуляторную батарею,\n",
      "   - стартера,\n",
      "   - \"массы\" двигателя,\n",
      "   - \"массы\" кузова.\n",
      "6. Убедитесь, что клеммы надежно затянуты.\n",
      "7. Проверьте исправность следующих проводов:\n",
      "   - провод, соединяющий вывод \"+\" аккумуляторной батареи с контактом B \"+\" стартера,\n",
      "   - провод, соединяющий вывод \"-\" аккумуляторной батареи с \"массой\" кузова автомобиля,\n",
      "   - провод, соединяющий двигатель с \"массой\" кузова автомобиля.\n",
      "8. Устраните неисправности поврежденных проводов и их наконечников. Если проводка неисправна и есть способ ремонта, устраните неисправность; если нет, замените проводку.\n",
      "9. Попробуйте запустить двигатель. Если якорь стартера не вращается, проверьте, слышен ли щелчок при его включении.\n",
      "\n",
      "Если все вышеуказанные проверки не помогли, возможно, вам нужно заменить стартер."
     ]
    }
   ],
   "source": [
    "for s in chain.stream({\"question\": question}):\n",
    "    print(s, end=\"\", flush=True)"
   ]
  }
 ],
 "metadata": {
  "kernelspec": {
   "display_name": ".venv",
   "language": "python",
   "name": "python3"
  },
  "language_info": {
   "codemirror_mode": {
    "name": "ipython",
    "version": 3
   },
   "file_extension": ".py",
   "mimetype": "text/x-python",
   "name": "python",
   "nbconvert_exporter": "python",
   "pygments_lexer": "ipython3",
   "version": "3.12.4"
  }
 },
 "nbformat": 4,
 "nbformat_minor": 2
}
