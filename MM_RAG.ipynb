{
 "cells": [
  {
   "cell_type": "code",
   "execution_count": 1,
   "metadata": {},
   "outputs": [],
   "source": [
    "import base64\n",
    "import os\n",
    "\n",
    "from pypdfium2 import PdfDocument\n",
    "from langchain_core.messages import HumanMessage\n",
    "from unstructured.partition.pdf import partition_pdf\n",
    "from langchain_openai.chat_models import ChatOpenAI\n",
    "from langchain.prompts import PromptTemplate\n",
    "from langchain.schema.output_parser import StrOutputParser\n",
    "from langchain_core.messages import AIMessage\n",
    "from langchain_core.runnables import RunnableLambda"
   ]
  },
  {
   "cell_type": "code",
   "execution_count": 2,
   "metadata": {},
   "outputs": [],
   "source": [
    "pdf_name = 'ref_data/TWINGO/MR413X4416A000.pdf'"
   ]
  },
  {
   "cell_type": "code",
   "execution_count": 3,
   "metadata": {},
   "outputs": [],
   "source": [
    "# pdf = PdfDocument(pdf_name)\n",
    "# for i in range(len(pdf)):\n",
    "#     page = pdf[i]\n",
    "#     image = page.render(scale=4).to_pil()\n",
    "#     image.save(f\"ref_data/parsed_images/page_{i}.jpg\")"
   ]
  },
  {
   "cell_type": "code",
   "execution_count": 3,
   "metadata": {},
   "outputs": [],
   "source": [
    "images_path = \"ref_data/parsed_images/\"\n",
    "pdf_elements = partition_pdf(\n",
    "    pdf_name,\n",
    "    chunking_strategy=\"by_title\",\n",
    "    extract_images_in_pdf=True,\n",
    "    max_characters=3000,\n",
    "    new_after_n_chars=2800,\n",
    "    combine_text_under_n_chars=2000,\n",
    "    image_output_dir_path=images_path,\n",
    "    )"
   ]
  },
  {
   "cell_type": "code",
   "execution_count": 4,
   "metadata": {},
   "outputs": [],
   "source": [
    "tables = []\n",
    "texts = []\n",
    "for element in pdf_elements:\n",
    "    if \"unstructured.documents.elements.Table\" in str(type(element)):\n",
    "        tables.append(str(element))\n",
    "    elif \"unstructured.documents.elements.CompositeElement\" in str(type(element)):\n",
    "        texts.append(str(element))"
   ]
  },
  {
   "cell_type": "code",
   "execution_count": 10,
   "metadata": {},
   "outputs": [],
   "source": [
    "prompt_text = \"\"\"You are an assistant tasked with summarizing tables and text for retrieval. \\\n",
    "These summaries will be embedded and used to retrieve the raw text or table elements. \\\n",
    "Give a concise summary of the table or text that is well-optimized for retrieval. Table \\\n",
    "or text: {element} \"\"\"\n",
    "prompt = PromptTemplate.from_template(prompt_text)\n",
    "empty_response = RunnableLambda(\n",
    "    lambda x: AIMessage(content=\"Error processing document\")\n",
    ")\n",
    "model = ChatOpenAI(model=\"gpt-4o-mini\")\n",
    "summarize_chain = {\"element\": lambda x: x} | prompt | model | StrOutputParser()\n",
    "\n",
    "text_summaries = []\n",
    "table_summaries = []\n",
    "text_summaries = summarize_chain.batch(texts, {\"max_concurrency\": 1})\n",
    "table_summaries = summarize_chain.batch(tables, {\"max_concurrency\": 1})"
   ]
  },
  {
   "cell_type": "code",
   "execution_count": 13,
   "metadata": {},
   "outputs": [],
   "source": [
    "def encode_image(image_path):\n",
    "    with open(image_path, \"rb\") as image_file:\n",
    "        return base64.b64encode(image_file.read()).decode(\"utf-8\")\n",
    "\n",
    "\n",
    "def image_summarize(img_base64, prompt):\n",
    "    model = ChatOpenAI(model=\"gpt-4o-mini\")\n",
    "    msg = model(\n",
    "        [\n",
    "            HumanMessage(\n",
    "                content=[\n",
    "                    {\"type\": \"text\", \"text\": prompt},\n",
    "                    {\n",
    "                        \"type\": \"image_url\",\n",
    "                        \"image_url\": {\"url\": f\"data:image/jpeg;base64,{img_base64}\"},\n",
    "                    },\n",
    "                ]\n",
    "            )\n",
    "        ]\n",
    "    )\n",
    "    return msg.content\n",
    "\n",
    "img_base64_list = []\n",
    "images_summaries = []\n",
    "\n",
    "# Prompt\n",
    "prompt = \"\"\"You are an assistant tasked with summarizing images for retrieval. \\\n",
    "These summaries will be embedded and used to retrieve the raw image. \\\n",
    "Give a concise summary of the image that is well optimized for retrieval.\"\"\"\n",
    "\n",
    "# Apply to images\n",
    "for img_file in sorted(os.listdir(images_path)):\n",
    "    if img_file.endswith(\".jpg\"):\n",
    "        img_path = os.path.join(images_path, img_file)\n",
    "        base64_image = encode_image(img_path)\n",
    "        img_base64_list.append(base64_image)\n",
    "        images_summaries.append(image_summarize(base64_image, prompt))"
   ]
  },
  {
   "cell_type": "code",
   "execution_count": 15,
   "metadata": {},
   "outputs": [
    {
     "data": {
      "text/plain": [
       "['TUVUIN GO\\n\\n1 Двигатель и его системы\\n\\nЗАПУСК ДВИГАТЕЛЯ И ЗАРЯДКА АККУМУЛЯТОРНОЙ БАТАРЕИ Twingo II Диагностика – Перечень и расположение элементов 16A - 2 Диагностика – Назначение элементов системы 16A - 3 16A - 4 Диагностика – Функциональная схема 16A - 5 Диагностика – Выполняемые функции 16A - 6 Диагностика – Жалобы владельцев Диагностика – Алгоритмы поиска неисправностей Диагностика – Проверки 16A - 7 16A - 16\\n\\n16A\\n\\nV2 Edition Russe \"Методы ремонта, рекомендуемые изготовителем в настоящем документе, соответствуют техническим условиям, действительным на момент составления руководства. В случае внесения конструктивных изменений в изготовление деталей, узлов, агрегатов автомобиля данной модели, методы ремонта могут быть также соответственно изменены\". Все авторские права принадлежат Renault s.a.s. Воспроизведение или перевод, в том числе частичные, настоящего документа, равно как и использование системы нумерации запасных частей, запрещены без предварительного письменного разрешения Renault s.a.s. © Renault s.a.s. 2008 MR-413-X44-16A000$TOC.mif V2 V2\\n\\nTwingo II\\n\\nЗАПУСК ДВИГАТЕЛЯ И ЗАРЯДКА АККУМУЛЯТОРНОЙ БАТАРЕИ Диагностика – Перечень и расположение элементов\\n\\n16A\\n\\n1 \\n\\n1\\n\\n3 \\n\\n3\\n\\n3 ЦЭКБС\\n\\n1\\n\\nСтартер\\n\\n2 \\n\\n2\\n\\n2\\n\\nГенератор\\n\\nMR-413-X44-16A000$125.mif MR-413-X44-16A000$125.mif V2\\n\\n16A-2\\n\\nTwingo II',\n",
       " 'ЗАПУСК ДВИГАТЕЛЯ И ЗАРЯДКА АККУМУЛЯТОРНОЙ БАТАРЕИ Диагностика – Назначение элементов системы\\n\\n16A\\n\\n● Аккумуляторная батарея Аккумуляторная батарея предназначена, прежде всего, для подачи на стартер мощного мгновенного импульса энергии, необходимого для запуска двигателя. Для обеспечения оптимального запуска ток разряда аккумуляторной батареи должен быть передан на стартер с минимальными потерями. Для этого электрические соединения (провода, выводы, наконечники проводов и т. п.) должны быть в исправном состоянии. При неработающем двигателе аккумуляторная батарея обеспечивает электроэнергией цепи систем, которые включены постоянно (даже при выключенном зажигании), в том числе охранной сигнализации, системы кодирования аудиосистемы, ЭБУ и т. д. ● Генератор Генератор включен только, если работает двигатель. Он предназначен для подзарядки аккумуляторной батареи, а также для обеспечения работы всех потребителей электроэнергии автомобиля. Генератор автомобиля Twingo II управляемого типа. Управление регулированием напряжения генератора осуществляет ЦЭКБС по последовательной цепи. ● ЦЭКБС ЦЭКБС соединен с генератором последовательной цепью (цепь BSS). ЦЭКБС и генератор поддерживают связь по этой последовательной цепи. ЦЭКБС управляет регулируемым напряжением генератора в зависимости от фазы работы двигателя, заряженности аккумуляторной батареи и температуры. ● Стартер Стартер предназначен для прокручивания двигателя при запуске. Поэтому для его работы требуется очень значительная электрическая мощность, которую должна обеспечить аккумуляторная батарея.\\n\\nMR-413-X44-16A000$250.mif MR-413-X44-16A000$250.mif V2\\n\\n16A-3\\n\\nTwingo II ЗАПУСК ДВИГАТЕЛЯ И ЗАРЯДКА АККУМУЛЯТОРНОЙ БАТАРЕИ Диагностика – Функциональная схема 16A\\n\\nБЛОК-СХЕМА СИСТЕМЫ ЗАПУСКА ДВИГАТЕЛЯ И ЗАРЯДКИ АККУМУЛЯТОРНОЙ БАТАРЕИ:  1 2 3 4 ЦЭКБС (645)  Аккумуляторная батарея (107) Стартер (163) Генератор (103)  A Измерение напряжения питания B Цепь BSS (последовательная цепь обмена информацией между генератором и ЦЭКБС) C Цепь управления стартером \\n\\nALFLTTE FEF ELE Peele ss\\n\\nMR-413-X44-16A000$375.mif MR-413-X44-16A000$375.mif V2\\n\\n16A-4\\n\\nTwingo II ЗАПУСК ДВИГАТЕЛЯ И ЗАРЯДКА АККУМУЛЯТОРНОЙ БАТАРЕИ Диагностика – Выполняемые функции 16A',\n",
       " 'Цепь зарядки аккумуляторной батареи предназначена: ● для снабжения электрической энергией автомобиля, соблюдая при этом ограничения по динамическим характеристикам силового агрегата: момент нагрузки генератора и градиент отбираемого момента должны быть строго сбалансированы. ● для контроля увеличения и сброса нагрузки генератора по разрешению ЭБУ системы впрыска или при изменении электрической нагрузки. ● для проверки качества напряжения в бортовой сети по уровню и колебаниям напряжения (сглаживание перепадов напряжения). ● для оптимизации зарядки аккумуляторной батареи, подавая на ее клеммы напряжение, соответствующее первоначальной зарядке (в период бездействия) и температуре электролита. ● для информирования ЭБУ системы впрыска о механической мощности, отбираемой шкивом привода вспомогательного оборудования, о заряженности аккумуляторной батареи, а также о величине тока возбуждения ротора. ● для проверки цепи зарядки: включение сигнальной лампы зарядки аккумуляторной батареи.\\n\\nПусковая цепь предназначена: ● для запуска двигателя, когда запуск выполняется ключом зажигания.\\n\\nMR-413-X44-16A000$500.mif MR-413-X44-16A000$500.mif V2\\n\\n16A-5\\n\\nTwingo II\\n\\nЗАПУСК ДВИГАТЕЛЯ И ЗАРЯДКА АККУМУЛЯТОРНОЙ БАТАРЕИ Диагностика – Жалобы владельцев\\n\\nПУСК ДВИГАТЕЛЯ\\n\\nСТАРТЕР НЕ РАБОТАЕТ\\n\\nor\\n\\nПРИ ВКЛЮЧЕНИИ СТАРТЕРА ЯКОРЬ ВРАЩАЕТСЯ, МАХОВИК НЕ ВРАЩАЕТСЯ\\n\\nST\\n\\nНЕОБЫЧНЫЙ ШУМ СТАРТЕРА\\n\\nНИЗКАЯ ЧАСТОТА ВРАЩЕНИЯ СТАРТЕРА\\n\\n=——————————_»\\n\\nMR-413-X44-16A000$625.mif MR-413-X44-16A000$625.mif V2\\n\\n16A-6\\n\\n16A\\n\\nАПН 1\\n\\nАПН 2\\n\\nАПН 3\\n\\nАПН 4\\n\\nЗАПУСК ДВИГАТЕЛЯ И ЗАРЯДКА АККУМУЛЯТОРНОЙ БАТАРЕИ\\n\\n16A\\n\\nTwingo II\\n\\nДиагностика – Алгоритмы поиска неисправностей',\n",
       " '16A-7\\n\\nTwingo II\\n\\nЗАПУСК ДВИГАТЕЛЯ И ЗАРЯДКА АККУМУЛЯТОРНОЙ БАТАРЕИ\\n\\nДиагностика – Алгоритмы поиска неисправностей 16A\\n\\nАПН 1 ПРОДОЛЖЕНИЕ 1  A  При выключенном зажигании измерьте напряжение между \"массой\" аккумуляторной батареи и выводом  включения стартера.  Величина напряжения?  < 1 В  1 В - 10 В  ≥ 10 В  Во время запуска стартера измерьте  напряжение между \"массой\"  аккумуляторной батареи и выводом  включения стартера.  Отсоедините провод вывода включения  стартера и еще раз измерьте напряжение  на проводе цепи 1A.  Величина напряжения?  Величина напряжения?  ≥ 10 В  < 10 В  ≥ 10 В  < 10 В  Замените стартер  (см. Руководство  по ремонту 411,  глава 16A, Запуск  двигателя и зарядка  аккумуляторной  батареи, Стартер:  Снятие и установка).  C  Замените стартер  (см. Руководство по  ремонту 411, глава  16A, Запуск  двигателя и зарядка  аккумуляторной  батареи, Стартер:  Снятие и установка).  Отсоедините реле 232 компонента 597 и измерьте напряжение  в цепи 1A.  Величина напряжения?  < 10 В  ≥ 10 В  C  Замыкание в цепи 1A между  компонентами 232 и 163. Если существует  способ ремонта (см. Техническую  ноту 6015А, Ремонт электропроводки,  Электропроводка: Меры  предосторожности при ремонте),  устраните неисправность проводки, если  такого способа нет, замените проводку. \\n\\nMR-413-X44-16A000$750.mif V2\\n\\n16A-8\\n\\nTwingo II\\n\\nЗАПУСК ДВИГАТЕЛЯ И ЗАРЯДКА АККУМУЛЯТОРНОЙ БАТАРЕИ\\n\\nДиагностика – Алгоритмы поиска неисправностей 16A\\n\\nАПН 1 ПРОДОЛЖЕНИЕ 2  B  Во время запуска стартера измерьте напряжение в цепи BPDA между \"массой\" в одной из точек крепления  стартера и выводом B+ стартера.  Величина напряжения?  > 10 В  0 В - 10 В  Во время запуска стартера измерьте  падение напряжения в цепи BPDA между  выводом \"+\" аккумуляторной батареи  и выводом B+ стартера.  Величина напряжения?  ≥ 1 В  Замените провод, соединяющий  вывод \"+\" аккумуляторной батареи  со стартером.  < 1 В  Во время запуска стартера измерьте  падение напряжения между выводом \"-\"  аккумуляторной батареи и \"массой\"  в одной из точек крепления стартера.  Величина напряжения?  ≥ 1 В  Замените один или несколько  проводов \"массы\", соединяющие  двигатель с аккумуляторной  батареей.  < 1 В  Замените стартер (см. Руководство по ремонту 411, глава 16A, Запуск двигателя и зарядка  аккумуляторной батареи, Стартер: Снятие и установка). \\n\\nMR-413-X44-16A000$750.mif V2\\n\\n16A-9',\n",
       " 'Twingo II\\n\\nЗАПУСК ДВИГАТЕЛЯ И ЗАРЯДКА АККУМУЛЯТОРНОЙ БАТАРЕИ\\n\\nДиагностика – Алгоритмы поиска неисправностей 16A',\n",
       " 'MR-413-X44-16A000$750.mif V2\\n\\n16A-10\\n\\nTwingo II\\n\\nЗАПУСК ДВИГАТЕЛЯ И ЗАРЯДКА АККУМУЛЯТОРНОЙ БАТАРЕИ\\n\\nДиагностика – Алгоритмы поиска неисправностей 16A\\n\\nАПН 1 ПРОДОЛЖЕНИЕ 4  D  ДА  При запросе запуска двигателя проверьте  наличие 12 В в реле 232 между цепью 1A  компонента 232 и \"массой\" шасси. Присутствует ли напряжение + 12 В?  НЕТ  Замените реле стартера (см. Руководство  по ремонту 411 Механические узлы  и агрегаты, глава 81C, ПРЕДОХРАНИТЕЛИ,  Блок предохранителей и реле в моторном  отсеке: Перечень и размещение элементов).  ДА  Обрыв/или замыкание в цепи 1A между  компонентами 232 и 163. Если существует  способ ремонта (см. Техническую  ноту 6015А, Ремонт электропроводки,  Электропроводка: Меры  предосторожности при ремонте), устраните  неисправность проводки, если такого способа  нет, замените проводку. \\n\\nMR-413-X44-16A000$750.mif V2\\n\\n16A-11\\n\\n16A-11\\n\\nTwingo II ЗАПУСК ДВИГАТЕЛЯ И ЗАРЯДКА АККУМУЛЯТОРНОЙ БАТАРЕИ Диагностика – Алгоритмы поиска неисправностей 16A',\n",
       " 'MR-413-X44-16A000$750.mif V2\\n\\n16A-12\\n\\nTwingo II\\n\\nЗАПУСК ДВИГАТЕЛЯ И ЗАРЯДКА АККУМУЛЯТОРНОЙ БАТАРЕИ\\n\\nДиагностика – Алгоритмы поиска неисправностей 16A',\n",
       " 'MR-413-X44-16A000$750.mif V2\\n\\n16A-13\\n\\nTwingo II\\n\\nЗАПУСК ДВИГАТЕЛЯ И ЗАРЯДКА АККУМУЛЯТОРНОЙ БАТАРЕИ\\n\\nДиагностика – Алгоритмы поиска неисправностей 16A\\n\\nАПН 3 ПРОДОЛЖЕНИЕ  A  B  C  D  ДА  НЕТ  ДА  НЕТ  Установите центрирующий  штифт или замените маховик  (см. Руководство по ремонту  411, Механические узлы  и агрегаты, глава 10A,  Маховик: снятие и установка)  или замените стартер  (см. Руководство по ремонту  411, глава 16A, Стартер:  Снятие и установка).  Неисправность управления  стартером, проверьте всю цепь  управления стартера (см. АПН1  продолжение 3 \"C\").  Замените стартер (см. Руководство  по ремонту 411, глава 16A, Стартер:  Снятие и установка).  Несколько раз повторите попытку, выждав  5 минут после 5 попыток (для охлаждения  стартера). Если после нескольких попыток  результат остается прежним, замените  стартер (см. Руководство по ремонту 411,  глава 16A, Стартер: Снятие и установка). \\n\\nMR-413-X44-16A000$750.mif V2\\n\\n16A-14\\n\\n16A-14',\n",
       " 'Применимость: Все типы\\n\\nЕсли неисправность не устранена, замените стартер (см. Руководство по ремонту 411, глава 16A, Запуск двигателя и зарядка аккумуляторной батареи, Стартер: Снятие и установка).\\n\\nMR-413-X44-16A000$750.mif V2\\n\\n16A-15\\n\\nTwingo II\\n\\nУКАЗАНИЯ\\n\\nЗАРЯДКА\\n\\nMR-413-X44-16A000$875.mif V2\\n\\nЗАПУСК ДВИГАТЕЛЯ И ЗАРЯДКА АККУМУЛЯТОРНОЙ БАТАРЕИ Диагностика – Проверки\\n\\n16A\\n\\nВыполните данную проверку только после полной диагностики ЦЭКБС диагностическим прибором (см. главу 87B, ЦЭКБС). Так как в ЦЭКБС встроены функция ЦЕПЬ ЗАРЯДКИ (подфункция: генератор) и проверка генератора по последовательной цепи (BSS).\\n\\nПРОВЕРКА ТОКА ОТДАЧИ ГЕНЕРАТОРА\\n\\nПРОВЕРКА 1\\n\\n16A-16\\n\\n16A-16\\n\\nTwingo II ЗАПУСК ДВИГАТЕЛЯ И ЗАРЯДКА АККУМУЛЯТОРНОЙ БАТАРЕИ Диагностика – Проверки 16A\\n\\nПРОВЕРКА 1\\n\\nПроверка тока отдачи генератора\\n\\nУКАЗАНИЯ\\n\\nВыполните проверку состояния аккумуляторной батареи (см. главу 80A, Аккумуляторная батарея).\\n\\nИзмерьте напряжение на выводах аккумуляторной батареи на прогретом двигателе, работающем на холостом ходу на протяжении 2 минут, и при отключенных потребителях электроэнергии.\\n\\nВеличина напряжения?\\n\\n< 14,8 В\\n\\n>148B y\\n\\n> 14,8 В\\n\\nЗамените генератор (см. Руководство по ремонту 411, глава 16A, Запуск двигателя и зарядка аккумуляторной батареи, Генератор: Снятие и установка). Посмотрите на результат (состояние аккумуляторной батареи, отсутствие следов окисления и т.д.).\\n\\nНа холостом ходу присоедините электроизмерительные клещи к проводу B \"+\" генератора, цепь BPDA, при отключенных потребителях.',\n",
       " 'Какова замеренная величина тока? (i 1)\\n\\nA\\n\\nMR-413-X44-16A000$875.mif V2\\n\\n16A-17\\n\\nTwingo II ЗАПУСК ДВИГАТЕЛЯ И ЗАРЯДКА АККУМУЛЯТОРНОЙ БАТАРЕИ Диагностика – Проверки 16A\\n\\nПРОВЕРКА 1 ПРОДОЛЖЕНИЕ 1  A  Дайте поработать двигателю с частотой вращения коленчатого вала 3000 об/мин  при включенных потребителях.  Дальний свет фар, обогрев стекла, вентиляция салона.  Какова замеренная величина тока? (i 2)  Сравните значения i 1 и i 2.  i 2 > i 1 + 5 A  i 2 < i 1 + 5 A  Ток отдачи генератора  в норме.  Замените генератор  (см. Руководство  по ремонту 411, глава 16A,  Запуск двигателя и зарядка  аккумуляторной батареи,  Генератор: Снятие  и установка).  Остановите двигатель.  Какая величина тока?  > 1 A  < 1 A  Замените генератор  (см. Руководство по ремонту  соответствующего  автомобиля, глава 16A,  Запуск двигателя и зарядка  аккумуляторной батареи,  Генератор:  Снятие и установка).  Генератор исправен. \\n\\nMR-413-X44-16A000$875.mif V2\\n\\n16A-18\\n\\nTwingo II ЗАПУСК ДВИГАТЕЛЯ И ЗАРЯДКА АККУМУЛЯТОРНОЙ БАТАРЕИ Диагностика – Проверки 16A',\n",
       " 'Возможные внешние причины: использование \"зарядно-пускового устройства\", чрезмерно долгое использование стартера (например: включение стартера, включена передача) и т. п.\\n\\nMR-413-X44-16A000$875.mif V2\\n\\n16A-19\\n\\nTwingo II\\n\\nЗАПУСК ДВИГАТЕЛЯ И ЗАРЯДКА АККУМУЛЯТОРНОЙ БАТАРЕИ Диагностика – Проверки\\n\\n16A\\n\\nПРОВЕРКА 2 ПРОДОЛЖЕНИЕ 1  A  B  НЕТ  ДА  Проверьте проводку между генератором  и  стартером и выводом \"+\" аккумуляторной батареи  (см. ПРОВЕРКА 3).  Он в исправном состоянии?  Замените генератор (см. Руководство  по ремонту 411, глава 16A, Запуск  двигателя и зарядка аккумуляторной  батареи, Генератор: Снятие  и установка).  НЕТ  ДА  Замените стартер (см. Руководство  по ремонту 411, глава 16A, Запуск двигателя  и зарядка аккумуляторной батареи, Стартер:  Снятие и установка).  Устраните неисправность поврежденных проводов  и их наконечников. Если цепь неисправна и если  существует способ ремонта (см. Техническую  ноту 6015A, Ремонт электропроводки,  Электропроводка: Меры предосторожности при  ремонте), устраните неисправность проводки; если  способа ремонта нет, замените проводку.  C  Замените силовой предохранитель (см. Руководство по ремонту 411, глава 80A, Аккумуляторная  батарея, Аккумуляторная батарея: Снятие и установка). \\n\\nMR-413-X44-16A000$875.mif V2\\n\\n16A-20\\n\\nTwingo II ЗАПУСК ДВИГАТЕЛЯ И ЗАРЯДКА АККУМУЛЯТОРНОЙ БАТАРЕИ Диагностика – Проверки 16A',\n",
       " 'Twingo II ЗАПУСК ДВИГАТЕЛЯ И ЗАРЯДКА АККУМУЛЯТОРНОЙ БАТАРЕИ Диагностика – Проверки 16A\\n\\nПРОВЕРКА 3 ПРОДОЛЖЕНИЕ  A  НЕТ  При работающем двигателе, включенном  дальнем свете фар и обогреве заднего  стекла измерьте напряжение между  выводом B+ аккумуляторной батареи,  компонент 107, и выводом B+ генератора,  компонент 103.  Напряжение > 0,7 В?  НЕТ  ДА  Проверьте исправность всей проводки  между аккумуляторной батареей,  генератором и стартером, а также  надежность затяжки наконечников всех  проводов.  Устраните неисправность поврежденных  проводов и их наконечников. Если цепь  неисправна и если существует способ  ремонта (см. Техническую ноту 6015A,  Ремонт электропроводки,  Электропроводка: Меры  предосторожности при ремонте),  устраните неисправность проводки,  в противном случае замените проводку  При работающем двигателе, включенном  дальнем свете фар и обогреве заднего  стекла измерьте напряжение между  минусовым выводом аккумуляторной  батареи, компонент 107, и корпусом  генератора, компонент 103.  Напряжение > 0,7 В?  НЕТ  ДА  Проверьте надежность соединения  с \"массой\" двигателя, генератора, шасси,  коробки передач, аккумуляторной батареи  и стартера (затяжка и состояние выводов  и состояние проводов) (см. Техническую  ноту для данного автомобиля).  Электрическая цепь исправна.  Устраните неисправность поврежденных  проводов и их наконечников. Если цепь  неисправна и если существует способ  ремонта (см. Техническую ноту 6015A,  Ремонт электропроводки,  Электропроводка: Меры  предосторожности при ремонте),  устраните неисправность проводки,  в противном случае замените проводку \\n\\nMR-413-X44-16A000$875.mif V2\\n\\n16A-22']"
      ]
     },
     "execution_count": 15,
     "metadata": {},
     "output_type": "execute_result"
    }
   ],
   "source": [
    "texts"
   ]
  },
  {
   "cell_type": "code",
   "execution_count": 14,
   "metadata": {},
   "outputs": [
    {
     "data": {
      "text/plain": [
       "['**Summary of TUVUIN GO Table:**\\n\\nThe table provides diagnostic information for the engine and systems of the Twingo II, focusing on engine start and battery charging. It includes elements like the starter and generator, along with their locations and functions. The document is a repair guide by Renault that outlines diagnostic procedures, troubleshooting algorithms, and checks, emphasizing adherence to technical conditions. It also notes copyright restrictions on reproduction and translation of the material. \\n\\n**Key Topics:**\\n- Engine start and battery charging diagnostics\\n- Element location and function\\n- Troubleshooting and checks\\n- Copyright information by Renault s.a.s.',\n",
       " \"**Summary of Engine Start and Battery Charging System for Twingo II**\\n\\nThe system comprises four main components: \\n\\n1. **Battery**: Provides a powerful energy impulse for engine start and powers essential systems when the engine is off, such as alarms and audio systems.\\n2. **Generator**: Operates only when the engine is running, recharging the battery and powering electrical consumers in the vehicle. Voltage regulation is managed by the Central Electric Control Block (ЦЭКБС).\\n3. **ЦЭКБС**: Maintains communication with the generator through a serial circuit, adjusting generator voltage based on engine status, battery charge, and temperature.\\n4. **Starter**: Requires significant electrical power from the battery to crank the engine during startup.\\n\\nA functional diagram illustrates the system's interconnections, highlighting the battery, starter, generator, and ЦЭКБС, as well as the measurement of supply voltage and control circuits.\",\n",
       " '**Summary:**\\n\\nThe charging circuit of the battery in the Twingo II is designed to supply electrical energy to the vehicle while balancing generator load characteristics, monitor load changes via the ECU, check voltage quality in the onboard network, optimize battery charging based on initial charge and electrolyte temperature, inform the ECU about mechanical power and battery charge status, and verify the charging circuit with a warning light. The starting circuit is specifically for engine ignition using the key. Common diagnostic issues include starter failure, unusual starter noise, and low starter rotation frequency.',\n",
       " '**Summary of 16A-7 and 16A-8 for Twingo II Engine Start and Battery Charging Diagnostics:**\\n\\n**16A-7:**\\n- **Diagnostics**: Procedures to measure voltage at starter and battery connections during ignition.\\n- **Voltage Measurements**: \\n  - If voltage < 1V or between 1V-10V during starter activation, check the starter.\\n  - If voltage ≥ 10V, potential starter replacement is needed.\\n  - If voltage is low after disconnecting starter wiring, inspect circuit 1A for shorts or replace wiring if necessary.\\n\\n**16A-8:**\\n- **Diagnostics**: Additional voltage checks in the BPDA circuit during starter operation.\\n- **Voltage Measurements**:\\n  - If voltage between starter connections is >10V: checks are satisfactory.\\n  - If voltage is <10V or if voltage drop ≥1V occurs, replace the battery-to-starter connection wire or ground wires as needed.\\n  - If voltage drop <1V, consider starter replacement. \\n\\nThese steps guide troubleshooting for engine starting issues and battery charging in the Twingo II.',\n",
       " '**Summary:** Twingo II engine startup and battery charging diagnostics, including troubleshooting algorithms (16A).',\n",
       " '**Summary:** The document outlines diagnostic algorithms for starting the engine and charging the battery in the Twingo II vehicle (MR-413-X44-16A000). It provides steps for troubleshooting issues related to the starter relay (232) and circuit 1A. If there is no 12V present at the relay, the starter relay should be replaced. If 12V is present, it indicates a possible break or short in circuit 1A, requiring either repair or replacement of the wiring based on technical guidance.',\n",
       " 'Summary: \"MR-413-X44-16A000$750.mif V2 - Twingo II troubleshooting guide for engine start and battery charging diagnostics, including fault-finding algorithms 16A.\"',\n",
       " '**Summary:** The document outlines troubleshooting procedures for starting issues and battery charging in the Twingo II vehicle. It includes diagnostic algorithms for fault finding (section 16A) and details steps for replacing or repairing the flywheel and starter motor, referencing the repair manual (411, chapters 10A and 16A). It advises checking the starter control circuit and suggests waiting 5 minutes after 5 failed attempts before attempting to start the engine again. If problems persist, replacing the starter is recommended.',\n",
       " '**Summary: Starter and Generator Testing for Twingo II**\\n\\n- **Applicability:** All types\\n- **Action if Fault Persists:** Replace the starter, refer to Repair Manual 411, Chapter 16A.\\n- **Charging and Starting Checks:** Conduct only after complete diagnostics with CECBS diagnostic tool (see Chapter 87B).\\n- **Generator Output Test:**\\n  - **Procedure:** Assess battery condition (see Chapter 80A).\\n  - **Measure Voltage:** On a warmed engine at idle for 2 mins with no electrical loads.\\n  - **Voltage Results:**\\n    - If < 14.8V: Replace generator (refer to Repair Manual 411, Chapter 16A).\\n    - If > 14.8V: Check battery state and for oxidation.\\n- **Tools:** Use clamp meter on generator B \"+\" wire for readings with loads disconnected.',\n",
       " '**Summary:** The table discusses diagnostic procedures for the Twingo II related to engine start and battery charging. It involves measuring current (i1 and i2) at 3000 RPM with various electrical consumers activated. The results determine the condition of the generator: if i2 is more than i1 + 5A, the generator is functioning normally; otherwise, it may need replacement. Additional checks indicate whether the generator produces more or less than 1A, guiding further repair actions.',\n",
       " '**Summary:**\\n\\nThe text outlines potential external causes for engine starting issues and battery charging problems in a Twingo II vehicle. It highlights diagnostic procedures related to the starter and generator, including checks of wiring between the generator, starter, and battery. Actions to take if issues are found include replacing the generator, starter, or power fuse, and repairing or replacing damaged wiring. References to specific repair guides are included for detailed instructions.',\n",
       " '**Summary of Twingo II Engine Start and Battery Charging Diagnostics (16A)**\\n\\nThe table outlines a diagnostic procedure for checking the electrical system of the Twingo II, specifically focusing on the battery and generator connections during engine operation with headlights and rear window heater activated. \\n\\n1. **Voltage Check**: Measure voltage between the battery positive terminal (component 107) and generator positive terminal (component 103).\\n   - If voltage > 0.7V, proceed to wiring checks.\\n   - If voltage ≤ 0.7V, inspect wiring integrity and connections among the battery, generator, and starter. Repair or replace damaged wires.\\n\\n2. **Ground Connection Check**: Measure voltage between the battery negative terminal (component 107) and generator casing (component 103).\\n   - If voltage > 0.7V, inspect ground connections (engine, generator, chassis, battery, starter).\\n   - If voltage ≤ 0.7V, ensure secure connections and repair or replace faulty wiring.\\n\\n**Reference**: Technical Note 6015A for wiring repair precautions. \\n\\n**Identifier**: MR-413-X44-16A000$875.mif V2 16A-22']"
      ]
     },
     "execution_count": 14,
     "metadata": {},
     "output_type": "execute_result"
    }
   ],
   "source": [
    "text_summaries"
   ]
  },
  {
   "cell_type": "code",
   "execution_count": 7,
   "metadata": {},
   "outputs": [
    {
     "data": {
      "text/plain": [
       "['АПН 1 Стартер не функционирует УКАЗАНИЯ Выполните проверку состояния аккумуляторной батареи (см. главу 80A, Аккумуляторная батарея). Выполните проверку состояния силового предохранителя (см. ПРОВЕРКА 2). Проверьте исправность предохранителя F9 компонента 1016. Проверьте, не заклинило ли двигатель. Проверьте надежность затяжки следующих наконечников: ⇒ аккумуляторную батарею, ⇒ стартера ⇒ \"массы\" двигателя ⇒ \"массы\" кузова Наконечники проводов надежно затянуты? НЕТ Затяните клеммы (см. Руководство по ремонту 411, глава 80A, Аккумуляторная батарея, Аккумуляторная батарея: Снятие и установка). ДА Проверьте исправность следующих проводов: ⇒ провод, соединяющий вывод \"+\" аккумуляторной батареи, компонент 107, с контактом B \"+\" стартера, компонент 163, ⇒ провод, соединяющий вывод \"-\" аккумуляторной батареи с \"массой\" кузова автомобиля, ⇒ провод, соединяющий двигатель с \"массой\" кузова автомобиля. Провода в порядке? ДА НЕТ Устраните неисправность поврежденных проводов и их наконечников. Если цепь неисправна и если существует способ ремонта (см. Техническую ноту 6015A, Ремонт электропроводки, Электропроводка: Меры предосторожности при ремонте), устраните неисправность проводки; если способа ремонта нет, замените проводку. Выполните попытку запуска двигателя. Если якорь стартера по-прежнему не вращается, слышен ли щелчок при его включении? НЕТ ДА A B MR-413-X44-16A000$750.mif V2',\n",
       " 'АПН 1 ПРОДОЛЖЕНИЕ 3 C С помощью диагностического прибора проверьте присутствие неисправности DEF 062 в цепи управления реле стартера (см. глава 87B, Коммутационный блок в салоне, Интерпретация неисправностей). Неисправность осталась? ДА Неисправность в цепи 1B между компонентами 597 и 645 (см. глава 87B, Коммутационный блок в салоне, Интерпретация неисправностей). Если существует способ ремонта (см. Техническую ноту 6015А, Ремонт электропроводки, Электропроводка: Меры предосторожности при ремонте), устраните неисправность проводки, если такого способа нет, замените проводку. НЕТ Проверьте условия запуска (см. глава 87B, Коммутационный блок в салоне, Интерпретация состояний). Состояние ET046 \"Система электронной блокировки запуска двигателя\" активно? ДА Условия запуска не соблюдены (см. глава 87B, ЦЭКБС, Интерпретация состояний). НЕТ При включенном зажигании проверьте наличие 12 В между цепями AP29 и 1B разъема реле, компонент 232, расположенного в блоке реле в моторном отсеке, компонент 597. Присутствует ли напряжение + 12 В? НЕТ Проверьте отсутствие обрывов и/или короткого замыкания в цепи 1B между компонентами 232 и 645 или в цепи AP29 компонентов 232 и 1016. Если цепь неисправна и если существует способ ремонта (см. Техническую ноту 6015A, Ремонт электропроводки, Электропроводка: Меры предосторожности при ремонте), устраните неисправность проводки; если способа ремонта нет, замените проводку. ДА При запросе запуска двигателя проверьте наличие 12 В в реле 232 между цепью D компонента 232 и \"массой\" шасси. Присутствует ли напряжение + 12 В? НЕТ Убедитесь в отсутствии обрывов и короткого замыкания в цепи D между компонентами 232 и 104. Если цепь неисправна и если существует способ ремонта (см. Техническую ноту 6015A, Ремонт электропроводки, Электропроводка: Меры предосторожности при ремонте), устраните неисправность проводки; если способа ремонта нет, замените проводку. ДА D',\n",
       " 'АПН 2 ПРИ ВКЛЮЧЕНИИ СТАРТЕРА ЯКОРЬ ВРАЩАЕТСЯ, МАХОВИК НЕ ВРАЩАЕТСЯ УКАЗАНИЯ Особенности: Прежде чем приступить к проверке, обязательно отсоедините минусовый провод от аккумуляторной батареи. Снимите стартер (см. Руководство по ремонту 411 Механические узлы и агрегаты, глава 16A, Стартер: Снятие и установка). Проверьте исправность зубчатого венца маховика двигателя. Зубья венца повреждены? ДА НЕТ Замените маховик (см. Руководство по ремонту 411, Механические узлы и агрегаты, глава 10A, Маховик: снятие и установка). Проверьте состояние стартера (нет ли сломанных зубьев шестерни и не изношена ли она). Стартер исправен? ДА НЕТ Замените стартер (см. Руководство по ремонту 411 Механические узлы и агрегаты, глава 16A, Стартер: Снятие и установка). Установите стартер (см. Руководство по ремонту 411 Механические узлы и агрегаты, глава 16A, Стартер: Снятие и установка).',\n",
       " 'АПН 3 Необычный шум стартера при вращении якоря УКАЗАНИЯ Выполните проверку состояния аккумуляторной батареи (см.Руководство по ремонту 413, глава 80A, Аккумуляторная батарея). Убедитесь, что шум действительно исходит от стартера. Попытайтесь запустить двигатель. В какой момент слышен шум? Запуск двигателя Сразу после запуска двигателя Проверьте надежность крепления стартера Стартер правильно закреплен? НЕТ Затяните крепления стартера (см. Руководство по ремонту 411, глава 16A, Стартер: Снятие и установка). ДА Снимите стартер и проверьте наличие установочного штифта. Проверьте состояние шестерни и всего зубчатого венца Заблокируйте систему впрыска двигателя (см. главу 13B или 17B, Интерпретация команд), включите стартер на 2 секунды и отпустите ключ. Неисправность зафиксирована? Стартер продолжает работать, после того, как ключ отпущен? ДА НЕТ ДА НЕТ A B C D',\n",
       " 'Twingo II ЗАПУСК ДВИГАТЕЛЯ И ЗАРЯДКА АККУМУЛЯТОРНОЙ БАТАРЕИ Диагностика – Алгоритмы поиска неисправностей 16A АПН 4 При включении стартера якорь вращается слишком медленно Резкое снижение частоты вращения стартера. При включении стартера сильно снижается яркость сигнальных ламп в щитке приборов УКАЗАНИЯ Проверьте проводку (ПРОВЕРКА 3). Выполните проверку аккумуляторной батареи (см. главу 80A, Аккумуляторная батарея).',\n",
       " 'Ток < 5 A Ток между 5 A и 35 A Ток > 35A Замените генератор (см. Руководство по ремонту 411, глава 16A, Запуск двигателя и зарядка аккумуляторной батареи, Генератор: Снятие и установка). Дайте поработать двигателю с частотой вращения коленчатого вала 3000 об/мин при отключенных потребителях. Убедитесь в отсутствии электрических компонентов, потребляющих чрезмерное количество тока. Установите потребителя, поочередно снимая предохранители. Проверяется',\n",
       " 'ПРОВЕРКА 2 Проверьте состояние предохранителя силовой цепи и определите причину неисправности УКАЗАНИЯ Убедитесь, что двигатель не заблокирован. При выключенном зажигании проверьте сопротивление между минусовым выводом батареи и выводом силового предохранителя. Напряжение больше или равно 10 В? ДА НЕТ Силовой предохранитель исправен Силовой предохранитель неисправен При отсоединенной аккумуляторной батарее проверьте сопротивление между минусовым выводом батареи и выводом силового предохранителя. Сопротивление ≥ 10 Ом? НЕТ ДА Отсоедините провод от вывода + генератора и проверьте сопротивление цепи между минусовым выводом батареи и выводом силового предохранителя. Сопротивление ≥ 10 Ом? НЕТ ДА C A B',\n",
       " 'ПРОВЕРКА 3 Проверка электропроводки Проверьте состояние выводов аккумуляторной батареи. Убедитесь в отсутствии окисления контактов. Проверьте надежность затяжки наконечников проводов на выводах (см. Руководство по ремонту 411, Механические узлы и агрегаты, глава 80A, Аккумуляторная батарея, Аккумуляторная батарея: Снятие и установка). Выводы в нормальном состоянии и без следов окисления? НЕТ Очистите клеммы и выводы или замените их при необходимости. ДА Убедитесь в отсутствии подтекания электролита из аккумуляторной батареи (отсутствие трещин и следов разрушения корпуса). Проверьте надежность крепления аккумуляторной батареи (см. Руководство по ремонту 411, Механические узлы и агрегаты, глава 80A, Аккумуляторная батарея, Снятие и установка). В исправном ли состоянии аккумуляторная батарея? НЕТ Замените батарею и очистите окружающие ее детали в автомобиле, если необходимо. (см. Руководство по ремонту 411, Механические узлы и агрегаты, глава 80A, Аккумуляторная батарея, Аккумуляторная батарея: Снятие и установка). ДА Заблокируйте впрыск топлива (см. главу 13B или 17B, Интерпретация команд). При работе стартера измерьте напряжение в цепи BPDA между выводом \"+\" аккумуляторной батареи, компонент 107, и выводом B+ стартера, компонент 163. Напряжение > 1 В? ДА Устраните неисправность поврежденных проводов и их наконечников. Если цепь неисправна и если существует способ ремонта (см. Техническую ноту 6015A, Ремонт электропроводки, Электропроводка: Меры предосторожности при ремонте), устраните неисправность проводки, в противном случае замените проводку НЕТ A MR-413-X44-16A000$875.mif V2 16A-21']"
      ]
     },
     "execution_count": 7,
     "metadata": {},
     "output_type": "execute_result"
    }
   ],
   "source": [
    "tables"
   ]
  },
  {
   "cell_type": "code",
   "execution_count": 16,
   "metadata": {},
   "outputs": [
    {
     "data": {
      "text/plain": [
       "[\"**Summary: Troubleshooting Starter Issues (АПН 1)**\\n\\n1. **Check Battery**: Verify the battery's condition (refer to Chapter 80A).\\n2. **Inspect Fuse**: Check the power fuse and the F9 fuse for component 1016.\\n3. **Starter and Engine**: Ensure the starter is not jammed.\\n4. **Tighten Connections**: Confirm tightness of connections for:\\n   - Battery\\n   - Starter\\n   - Engine ground\\n   - Chassis ground\\n5. **Wire Inspection**: If connections are tight, check wires:\\n   - From battery positive to starter\\n   - From battery negative to chassis\\n   - From engine to chassis\\n6. **Repair or Replace Wires**: Fix any damaged wires; replace if irreparable.\\n7. **Attempt Engine Start**: If the starter does not turn, check for a clicking sound when engaged.\\n\\n**Note**: Consult relevant repair guides for detailed instructions.\",\n",
       " '**Summary**: The text outlines a diagnostic procedure for troubleshooting a starter relay control circuit with fault code DEF 062. It includes steps to check for faults in wiring between specified components, voltage presence at connections, and conditions for engine start. If faults are found and repair methods exist, the wiring should be repaired; otherwise, it should be replaced. The process also involves verifying circuit integrity and voltage measurements at various points, with references to specific chapters and technical notes for further guidance.',\n",
       " 'Summary: The procedure outlines steps for troubleshooting a starter when the anchor rotates but the flywheel does not. Key actions include disconnecting the negative battery cable, removing the starter, and checking the condition of the flywheel gear for damage. If damaged, replace the flywheel; if the starter is faulty (e.g., broken teeth), replace the starter. Installation instructions refer to a specific repair manual for detailed guidance.',\n",
       " \"**Summary:** The table provides troubleshooting steps for an unusual starter noise during armature rotation. Key actions include checking the battery condition, verifying the noise source, and assessing starter mounting security. If the starter is loose, tighten its fastenings. If secure, remove the starter to inspect the mounting pin and gear condition. Additionally, it involves locking the engine's fuel injection system, testing the starter for persistent operation after key release, and determining if a fault is present.\",\n",
       " \"Summary: The Twingo II engine start and battery charging diagnostics indicate issues when the starter motor rotates too slowly and there's a significant drop in dashboard indicator brightness during starting. Recommended actions include checking the wiring and testing the battery as outlined in section 80A.\",\n",
       " '**Summary:** The table outlines procedures based on current levels: for current < 5A, between 5A and 35A, and > 35A. It recommends replacing the generator (refer to Repair Manual 411, Chapter 16A) and running the engine at 3000 RPM with no load. It emphasizes checking for excessive current draw from electrical components by sequentially removing fuses.',\n",
       " \"**Summary:** This text outlines a procedure for checking the condition of a power circuit fuse and diagnosing faults. The steps include ensuring the engine is not locked, verifying resistance between the battery's negative terminal and the fuse terminal with the ignition off, and checking voltage levels. If the fuse is faulty, further resistance checks are required with the battery disconnected and the generator wire detached. Key resistance thresholds are specified (≥ 10 Ω) for troubleshooting.\",\n",
       " \"**Summary of Electrical Wiring Check Procedure**: \\n\\n1. **Battery Terminal Inspection**: Check for corrosion on battery terminals and ensure wire connectors are securely fastened. If corrosion is present, clean or replace terminals.\\n   \\n2. **Electrolyte Leakage Check**: Verify there are no cracks or damage to the battery casing. Ensure the battery is securely mounted. If the battery is defective, replace it and clean surrounding components.\\n\\n3. **Fuel Injection Lock**: Lock the fuel injection system before testing.\\n\\n4. **Voltage Measurement**: While cranking the starter, measure the voltage in the BPDA circuit between the battery's positive terminal and the starter's B+ terminal. If voltage is greater than 1V, repair damaged wires and connectors; if the circuit is faulty without repair options, replace the wiring.\\n\\n**References**: Repair Guide 411, Chapter 80A for battery installation/removal and Technical Note 6015A for wiring repair precautions.\"]"
      ]
     },
     "execution_count": 16,
     "metadata": {},
     "output_type": "execute_result"
    }
   ],
   "source": [
    "table_summaries"
   ]
  },
  {
   "cell_type": "code",
   "execution_count": 17,
   "metadata": {},
   "outputs": [
    {
     "data": {
      "text/plain": [
       "['Document titled \"Twingo II\" outlining engine diagnostics and battery charging procedures in Russian. Sections include engine start, battery charging, component lists, functional diagrams, owner complaints, troubleshooting algorithms, and checks. Edition dated 2008.',\n",
       " 'Technical illustration of a Twingo II engine, labeled with components related to the starter (1), generator (2), and a wiring diagram (3). Includes diagnostic information in Russian regarding engine start and battery charging systems.',\n",
       " 'A technical diagnostic flowchart for vehicle engine start and battery charging issues, outlining steps to check voltage, identify potential faults in wiring components 232 and 163, and instructions for repair or replacement of parts. Includes references to repair manuals and safety measures.',\n",
       " 'Flowchart detailing troubleshooting steps for a vehicle starter issue. It includes instructions for disconnecting the battery, checking the starter and flywheel, and replacing components if necessary. The document is in Russian and provides references to repair manuals for detailed procedures.',\n",
       " 'Flowchart for diagnosing unusual starter noise during engine start in Twingo II. Instructions include checking battery and starter conditions, verifying starter mounting, and troubleshooting potential issues. Steps guide the user through checking for noise at specific moments during the starting process and assessing if the starter continues to run after releasing the key.',\n",
       " 'Flowchart for diagnosing starter and battery issues in Twingo II. Steps include checking for centering washer or replacing starter, verifying starter control, and performing repeated attempts with cooling intervals. References repair manual sections for detailed procedures.',\n",
       " 'Image summary: Diagnostic guide for starting an engine and charging a battery for Twingo II. It includes troubleshooting steps for starter issues, battery checks, and instructions for replacing the starter if problems persist. Text is in Russian, detailing symptoms and recommendations for repair.',\n",
       " \"The image is a diagnostic instruction sheet for the Twingo II vehicle, focusing on the engine start and battery charging system. It includes guidelines for performing a complete diagnostic check using specific instruments before verifying the generator's output current. The section titles are in Russian, indicating steps for battery charging and generator output testing.\",\n",
       " \"Image summary: A diagnostic flowchart for testing the output current of a vehicle's generator and battery system. It outlines steps for measuring battery voltage and current under specific conditions, provides guidance for interpreting results, and suggests replacement of the generator based on current readings. The instructions are presented in Russian, detailing various scenarios for low, medium, and high current outputs.\",\n",
       " 'Flowchart for diagnosing engine start and battery charging in Twingo II. It includes steps for measuring generator current, comparing values, and determining if the generator needs replacement or is functioning properly. Key decision points involve measuring current values (i1, i2) and actions based on comparisons.',\n",
       " \"Diagnostic flowchart for checking the status of the power relay and identifying issues in the starting system of a Twingo II vehicle. Instructions include verifying if the engine is locked, measuring voltage and resistance across battery terminals and the power relay, and identifying potential external causes for failure. The process involves several decision points leading to possible outcomes related to the relay's condition and external factors affecting performance.\",\n",
       " 'Flowchart for diagnosing engine start and battery charging issues in a Twingo II. Includes checks for connections between the generator, starter, and battery. Provides steps for replacing components like the starter, generator, and fuses based on the condition of wiring and connections. References repair manuals for detailed procedures.',\n",
       " \"Image contains a technical document in Russian regarding the starting and charging system of the Twingo II vehicle. It includes descriptions of the accumulator battery, generator, control unit (ЦКБС), and starter, detailing their functions and interconnections in the vehicle's electrical system.\",\n",
       " 'The image is a diagnostic flowchart for checking and charging a car battery and its electrical connections. It outlines steps for verifying the condition of battery terminals, checking for signs of oxidation, ensuring proper connections, and measuring voltage. The flowchart includes decision points with instructions on cleaning or replacing components as necessary, referencing specific repair guidelines throughout. The document is in Russian and appears to be part of a technical manual for automotive maintenance.',\n",
       " 'The image is a diagnostic flowchart for starting the engine and charging the battery of a Twingo II vehicle. It outlines steps to measure voltage between various components, including the battery and generator, under specific conditions. The flowchart includes decision points where voltage readings determine whether the electrical circuit is functioning correctly or if further checks and repairs are needed for wiring and connections.',\n",
       " 'Schematic diagram for the ignition and charging system of a Twingo II vehicle battery. It includes components such as the battery, starter, generator, and control unit, with labeled circuits for power measurement, information exchange, and starter control.',\n",
       " 'Image summary: A technical document in Russian detailing the diagnostics and functions related to the starting of an engine and charging of a battery. It includes objectives for battery charging, generator load control, voltage quality checks, optimization of battery charging, and checks for the starting circuit. The document appears to be part of a manual or guide related to automotive diagnostics.',\n",
       " 'Image summary: A diagnostic flowchart for engine starting and battery charging for a Twingo II vehicle. It includes potential issues such as starter failure, abnormal starter noise, and low starter speed, with references to troubleshooting sections (APN 1-4). The text is in Russian.',\n",
       " 'Flowchart for diagnosing a non-functional starter in Twingo II. Instructions include checking battery and starter connections, verifying wire integrity, and troubleshooting steps if the starter does not engage. Details on wire checks and potential repairs are provided.',\n",
       " 'A flowchart detailing the diagnostic process for starting a vehicle and charging the battery. It includes steps for measuring voltage between the battery mass and starter connection, determining whether to replace the starter or check connections based on voltage readings. The document is labeled in Russian and includes references to repair manuals for further guidance.',\n",
       " 'Flowchart for diagnosing starter and battery charging issues in Twingo II. It includes steps to measure voltages at various points and determine necessary actions based on voltage readings. Guidance for replacing components is also provided.',\n",
       " 'Flowchart detailing diagnostic procedures for engine start and battery charging issues in a Twingo II. It includes steps for checking electrical components, identifying faults, and verifying voltage presence in specific circuits. The document references sections for further interpretation and repair guidelines.']"
      ]
     },
     "execution_count": 17,
     "metadata": {},
     "output_type": "execute_result"
    }
   ],
   "source": [
    "images_summaries"
   ]
  },
  {
   "cell_type": "markdown",
   "metadata": {},
   "source": []
  }
 ],
 "metadata": {
  "kernelspec": {
   "display_name": ".venv",
   "language": "python",
   "name": "python3"
  },
  "language_info": {
   "codemirror_mode": {
    "name": "ipython",
    "version": 3
   },
   "file_extension": ".py",
   "mimetype": "text/x-python",
   "name": "python",
   "nbconvert_exporter": "python",
   "pygments_lexer": "ipython3",
   "version": "3.12.4"
  }
 },
 "nbformat": 4,
 "nbformat_minor": 2
}
